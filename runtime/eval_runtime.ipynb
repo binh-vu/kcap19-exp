{
 "cells": [
  {
   "cell_type": "markdown",
   "metadata": {},
   "source": [
    "#### The purpose of this notebook is to compare D-REPR with other methods such as KR2RML and R2RML in term of performance"
   ]
  },
  {
   "cell_type": "code",
   "execution_count": 1,
   "metadata": {},
   "outputs": [],
   "source": [
    "import re, numpy as np, csv, ujson\n",
    "import matplotlib.pyplot as plt\n",
    "from tqdm import tqdm_notebook as tqdm\n",
    "from pathlib import Path\n",
    "from collections import defaultdict\n",
    "%matplotlib inline\n",
    "plt.rcParams[\"figure.figsize\"] = (10.0, 8.0) # set default size of plots\n",
    "plt.rcParams[\"image.interpolation\"] = \"nearest\"\n",
    "plt.rcParams[\"image.cmap\"] = \"gray\"\n",
    "\n",
    "%load_ext autoreload\n",
    "%autoreload 2"
   ]
  },
  {
   "cell_type": "code",
   "execution_count": 12,
   "metadata": {},
   "outputs": [],
   "source": [
    "wdir = Path(\"/workspace/temp\")\n",
    "runtime = defaultdict(lambda: defaultdict(lambda: []))"
   ]
  },
  {
   "cell_type": "code",
   "execution_count": 5,
   "metadata": {},
   "outputs": [],
   "source": [
    "def read_exec_time(log_file: str, tag_str: str='>>> [DREPR]', print_exec_time: bool=True):\n",
    "    \"\"\"Read the executing time of the program\"\"\"\n",
    "    exec_times = []\n",
    "    with open(log_file, \"r\") as f:\n",
    "        for line in f:\n",
    "            if line.find(tag_str) != -1:\n",
    "                m = re.search(\"((?:\\d+\\.)?\\d+) ?ms\", line)\n",
    "                if m is None:\n",
    "                    m = re.search(\"((?:\\d+\\.)?\\d+) ?seconds\", line)\n",
    "                    exec_time = float(m.group(1)) * 1000\n",
    "                else:\n",
    "                    exec_time = float(m.group(1))\n",
    "                    \n",
    "                exec_times.append(exec_time)\n",
    "                if print_exec_time:\n",
    "                    print(line.strip(), \"-- extract exec_time:\", exec_times[-1])\n",
    "    \n",
    "    if len(exec_times) == 0:\n",
    "        raise Exception(\"Doesn't found any output message\")\n",
    "        \n",
    "    assert len(exec_times) == 1, exec_times\n",
    "    return float(exec_times[0])"
   ]
  },
  {
   "cell_type": "markdown",
   "metadata": {},
   "source": [
    "#### Generate benchmark data"
   ]
  },
  {
   "cell_type": "code",
   "execution_count": 78,
   "metadata": {},
   "outputs": [
    {
     "data": {
      "application/vnd.jupyter.widget-view+json": {
       "model_id": "0bcf0ebfea92432b91fac78a2e54c90b",
       "version_major": 2,
       "version_minor": 0
      },
      "text/plain": [
       "HBox(children=(IntProgress(value=0, max=80000), HTML(value='')))"
      ]
     },
     "metadata": {},
     "output_type": "display_data"
    },
    {
     "name": "stdout",
     "output_type": "stream",
     "text": [
      "\n"
     ]
    }
   ],
   "source": [
    "n_records = 5000 * 2 * 2 * 2 * 2\n",
    "\n",
    "benchmark_dir = wdir / \"benchmark_datasets\" / \"people80k\"\n",
    "benchmark_dir.mkdir(exist_ok=True)\n",
    "\n",
    "with open(benchmark_dir / \"DATA.csv\", \"w\") as f:\n",
    "    writer = csv.writer(f)\n",
    "    header = [\"ID\", \"NAME\", \"PHONE\", \"STREET\", \"CITY\", \"STATE\", \"ZIPCODE\"]\n",
    "    writer.writerow(header)\n",
    "    \n",
    "    for i in tqdm(range(n_records)):\n",
    "        writer.writerow([f\"http://example.org/people/{i}\", f\"name_{i}\", f\"phone_{i}\", f\"street_{i}\", f\"city_{i}\", f\"state_{i}\", f\"zipcode_{i}\"])"
   ]
  },
  {
   "cell_type": "code",
   "execution_count": 13,
   "metadata": {},
   "outputs": [],
   "source": [
    "people_dataset = wdir / \"benchmark_datasets\" / \"people10k\"\n",
    "n_runs = 3"
   ]
  },
  {
   "cell_type": "markdown",
   "metadata": {},
   "source": [
    "#### KR2RML\n",
    "\n",
    "To setup KR2RML, we need to first download Web-Karma-2.2 from the web, modify the file: `karma-offline/src/main/java/edu/isi/karma/rdf/OfficeRDFGenerator` to add this code to line 184: `System.out.println(\">>> [DREPR] Finish converting RDF after \" + String.valueOf(System.currentTimeMillis() - l) + \"ms\");` to print the runtime to stdout.\n",
    "\n",
    "Then run `mvn install -Dmaven.test.skip=true` at the root directory to install dependencies before actually converting data to RDF"
   ]
  },
  {
   "cell_type": "code",
   "execution_count": 80,
   "metadata": {},
   "outputs": [
    {
     "name": "stdout",
     "output_type": "stream",
     "text": [
      "/workspace/tools-evaluation/Web-Karma-2.2/karma-offline\n",
      "/workspace/drepr/drepr-exp/benchmark_datasets/people80k/DATA.csv\n"
     ]
    },
    {
     "data": {
      "application/vnd.jupyter.widget-view+json": {
       "model_id": "77131a412c7a41db9ae6a7373bc39762",
       "version_major": 2,
       "version_minor": 0
      },
      "text/plain": [
       "HBox(children=(IntProgress(value=0, max=3), HTML(value='')))"
      ]
     },
     "metadata": {},
     "output_type": "display_data"
    },
    {
     "name": "stdout",
     "output_type": "stream",
     "text": [
      "init: Bootstrapping class not in Py.BOOTSTRAP_TYPES[class=class org.python.core.PyStringMap]\n",
      ">>> [DREPR] Finish converting RDF after 8471ms -- extract exec_time: 8471.0\n",
      "init: Bootstrapping class not in Py.BOOTSTRAP_TYPES[class=class org.python.core.PyStringMap]\n",
      ">>> [DREPR] Finish converting RDF after 8434ms -- extract exec_time: 8434.0\n",
      "init: Bootstrapping class not in Py.BOOTSTRAP_TYPES[class=class org.python.core.PyStringMap]\n",
      ">>> [DREPR] Finish converting RDF after 8011ms -- extract exec_time: 8011.0\n",
      "\n",
      "run 3 times, average: 8305.333333333334ms\n"
     ]
    }
   ],
   "source": [
    "%cd /workspace/tools-evaluation/Web-Karma-2.2/karma-offline\n",
    "\n",
    "DATA_FILE = people_dataset / \"DATA.csv\"\n",
    "MODEL_FILE = people_dataset / \"karma.model.ttl\"\n",
    "OUTPUT_FILE = people_dataset / \"karma.output.ttl\"\n",
    "print(DATA_FILE)\n",
    "\n",
    "karma_exec_times = []\n",
    "\n",
    "for i in tqdm(range(n_runs)):\n",
    "    !mvn exec:java -Dexec.mainClass=\"edu.isi.karma.rdf.OfflineRdfGenerator\" -Dexec.args=\" \\\n",
    "        --sourcetype CSV \\\n",
    "        --filepath \\\"{DATA_FILE}\\\" \\\n",
    "        --modelfilepath \\\"{MODEL_FILE}\\\" \\\n",
    "        --sourcename test \\\n",
    "        --outputfile {OUTPUT_FILE}\" -Dexec.classpathScope=compile > /tmp/karma_speed_comparison.log\n",
    "    \n",
    "    karma_exec_times.append(read_exec_time(\"/tmp/karma_speed_comparison.log\"))\n",
    "    !rm /tmp/karma_speed_comparison.log\n",
    "        \n",
    "print(f\"run {n_runs} times, average: {np.mean(karma_exec_times)}ms\")"
   ]
  },
  {
   "cell_type": "markdown",
   "metadata": {},
   "source": [
    "<hr />\n",
    "\n",
    "Report information about the output and input"
   ]
  },
  {
   "cell_type": "code",
   "execution_count": 81,
   "metadata": {},
   "outputs": [
    {
     "name": "stdout",
     "output_type": "stream",
     "text": [
      "#records: 80000 (9632.36 records/s)\n",
      "#triples: 720000 (86691.28 triples/s)\n"
     ]
    }
   ],
   "source": [
    "with open(DATA_FILE, \"r\") as f:\n",
    "    n_records = sum(1 for _ in f) - 1\n",
    "    print(\"#records:\", n_records, f\"({round(n_records * 1000 / np.mean(karma_exec_times), 2)} records/s)\")\n",
    "with open(OUTPUT_FILE, \"r\") as f:\n",
    "    n_triples = sum(1 for line in f if line.strip().endswith(\".\"))\n",
    "    print(\"#triples:\", n_triples, f\"({round(n_triples * 1000 / np.mean(karma_exec_times), 2)} triples/s)\")"
   ]
  },
  {
   "cell_type": "code",
   "execution_count": 82,
   "metadata": {},
   "outputs": [
    {
     "name": "stdout",
     "output_type": "stream",
     "text": [
      "{\n",
      "    \"karma\":{\n",
      "        \"5000\":[\n",
      "            1475.0,\n",
      "            1408.0,\n",
      "            1221.0\n",
      "        ],\n",
      "        \"10000\":[\n",
      "            1797.0,\n",
      "            1765.0,\n",
      "            1767.0\n",
      "        ],\n",
      "        \"20000\":[\n",
      "            3199.0,\n",
      "            3053.0,\n",
      "            3578.0\n",
      "        ],\n",
      "        \"40000\":[\n",
      "            5213.0,\n",
      "            4807.0,\n",
      "            4951.0\n",
      "        ],\n",
      "        \"80000\":[\n",
      "            8471.0,\n",
      "            8434.0,\n",
      "            8011.0\n",
      "        ]\n",
      "    },\n",
      "    \"morph\":{\n",
      "        \"5000\":[\n",
      "            5113.0,\n",
      "            5035.0,\n",
      "            4288.0\n",
      "        ],\n",
      "        \"10000\":[\n",
      "            14860.0,\n",
      "            15249.0,\n",
      "            14740.0\n",
      "        ],\n",
      "        \"20000\":[\n",
      "            60142.0,\n",
      "            71170.0,\n",
      "            66572.0\n",
      "        ]\n",
      "    },\n",
      "    \"drepr\":{\n",
      "        \"5000\":[\n",
      "            33.04,\n",
      "            33.67,\n",
      "            33.6\n",
      "        ],\n",
      "        \"10000\":[\n",
      "            69.16,\n",
      "            66.19,\n",
      "            74.17\n",
      "        ],\n",
      "        \"20000\":[\n",
      "            134.05,\n",
      "            130.07,\n",
      "            131.86\n",
      "        ],\n",
      "        \"40000\":[\n",
      "            269.51,\n",
      "            264.74,\n",
      "            268.21\n",
      "        ]\n",
      "    }\n",
      "}\n"
     ]
    }
   ],
   "source": [
    "runtime['karma'][n_records] = karma_exec_times\n",
    "print(ujson.dumps(runtime, indent=4))"
   ]
  },
  {
   "cell_type": "markdown",
   "metadata": {},
   "source": [
    "#### MorphRDB\n",
    "\n",
    "Assuming that you have followed their installation guides at [this](https://github.com/oeg-upm/morph-rdb/wiki/Installation) and [usages](https://github.com/oeg-upm/morph-rdb/wiki/Usage#csv-files). We are going to create r2rml mappings and invoke their program to map data into RDF"
   ]
  },
  {
   "cell_type": "code",
   "execution_count": 65,
   "metadata": {},
   "outputs": [
    {
     "name": "stdout",
     "output_type": "stream",
     "text": [
      "/workspace/drepr/drepr-exp/mappers/morph\n"
     ]
    },
    {
     "data": {
      "application/vnd.jupyter.widget-view+json": {
       "model_id": "3a9dd65b5c19494d8a302dbba09e4f35",
       "version_major": 2,
       "version_minor": 0
      },
      "text/plain": [
       "HBox(children=(IntProgress(value=0, max=3), HTML(value='')))"
      ]
     },
     "metadata": {},
     "output_type": "display_data"
    },
    {
     "name": "stdout",
     "output_type": "stream",
     "text": [
      "[main] INFO es.upm.fi.dia.oeg.morph.r2rml.rdb.engine.MorphCSVRunner - Running time = 60142 ms. -- extract exec_time: 60142.0\n",
      "[main] INFO es.upm.fi.dia.oeg.morph.r2rml.rdb.engine.MorphCSVRunner - Running time = 71170 ms. -- extract exec_time: 71170.0\n",
      "[main] INFO es.upm.fi.dia.oeg.morph.r2rml.rdb.engine.MorphCSVRunner - Running time = 66572 ms. -- extract exec_time: 66572.0\n",
      "\n",
      "run 3 times, average: 65961.33333333333ms\n"
     ]
    }
   ],
   "source": [
    "# %cd /workspace/tools-evaluation/morph-rdb/morph-examples\n",
    "%cd /workspace/drepr/drepr-exp/mappers/morph\n",
    "\n",
    "morph_exec_time = []\n",
    "for i in tqdm(range(n_runs)):\n",
    "    !java -cp .:morph-rdb-dist-3.9.17.jar:dependency/\\* es.upm.fi.dia.oeg.morph.r2rml.rdb.engine.MorphCSVRunner {str(people_dataset)} morph.model.properties > /tmp/morph.run.log 2>&1\n",
    "    morph_exec_time.append(read_exec_time(\"/tmp/morph.run.log\", \"Running time = \"))\n",
    "    !rm /tmp/morph.run.log\n",
    "        \n",
    "print(f\"run {n_runs} times, average: {np.mean(morph_exec_time)}ms\")"
   ]
  },
  {
   "cell_type": "code",
   "execution_count": 66,
   "metadata": {},
   "outputs": [
    {
     "name": "stdout",
     "output_type": "stream",
     "text": [
      "{\n",
      "    \"karma\":{\n",
      "        \"5000\":[\n",
      "            1475.0,\n",
      "            1408.0,\n",
      "            1221.0\n",
      "        ],\n",
      "        \"10000\":[\n",
      "            1797.0,\n",
      "            1765.0,\n",
      "            1767.0\n",
      "        ],\n",
      "        \"20000\":[\n",
      "            3199.0,\n",
      "            3053.0,\n",
      "            3578.0\n",
      "        ]\n",
      "    },\n",
      "    \"morph\":{\n",
      "        \"5000\":[\n",
      "            5113.0,\n",
      "            5035.0,\n",
      "            4288.0\n",
      "        ],\n",
      "        \"10000\":[\n",
      "            14860.0,\n",
      "            15249.0,\n",
      "            14740.0\n",
      "        ],\n",
      "        \"20000\":[\n",
      "            60142.0,\n",
      "            71170.0,\n",
      "            66572.0\n",
      "        ]\n",
      "    },\n",
      "    \"drepr\":{\n",
      "        \"5000\":[\n",
      "            33.04,\n",
      "            33.67,\n",
      "            33.6\n",
      "        ],\n",
      "        \"10000\":[\n",
      "            69.16,\n",
      "            66.19,\n",
      "            74.17\n",
      "        ]\n",
      "    }\n",
      "}\n"
     ]
    }
   ],
   "source": [
    "runtime['morph'][n_records] = morph_exec_time\n",
    "print(ujson.dumps(runtime, indent=4))"
   ]
  },
  {
   "cell_type": "markdown",
   "metadata": {},
   "source": [
    "#### RML"
   ]
  },
  {
   "cell_type": "code",
   "execution_count": 39,
   "metadata": {},
   "outputs": [
    {
     "name": "stdout",
     "output_type": "stream",
     "text": [
      "/workspace/drepr/drepr-exp/benchmark_datasets/people5k\n",
      "^C\n"
     ]
    }
   ],
   "source": [
    "RML_JAR = wdir / \"mappers/rmlmapper-4.4.1-r96.jar\"\n",
    "\n",
    "%cd {people_dataset}\n",
    "\n",
    "!time java -jar {RML_JAR} -s turtle -m \"./rml.model.ttl\" -o \"./rml.output.ttl\" > /tmp/rml.run.log"
   ]
  },
  {
   "cell_type": "markdown",
   "metadata": {},
   "source": [
    "#### D-REPR"
   ]
  },
  {
   "cell_type": "code",
   "execution_count": 6,
   "metadata": {},
   "outputs": [
    {
     "name": "stdout",
     "output_type": "stream",
     "text": [
      "/workspace/drepr/drepr-exp/benchmark_datasets/people10k\n"
     ]
    },
    {
     "data": {
      "application/vnd.jupyter.widget-view+json": {
       "model_id": "505b4f9f87cc4361b1e95cb682b7ffd2",
       "version_major": 2,
       "version_minor": 0
      },
      "text/plain": [
       "HBox(children=(IntProgress(value=0, max=3), HTML(value='')))"
      ]
     },
     "metadata": {},
     "output_type": "display_data"
    },
    {
     "name": "stdout",
     "output_type": "stream",
     "text": [
      ">>> [DREPR] runtime: 0.06919 seconds -- extract exec_time: 69.19\n",
      ">>> [DREPR] runtime: 0.06703 seconds -- extract exec_time: 67.03\n",
      ">>> [DREPR] runtime: 0.07691 seconds -- extract exec_time: 76.91000000000001\n",
      "\n",
      "run 3 times, average: 71.04333333333334ms\n"
     ]
    }
   ],
   "source": [
    "%cd {people_dataset}\n",
    "\n",
    "drepr_exec_times = []\n",
    "\n",
    "for i in tqdm(range(n_runs)):\n",
    "    !python -m pydrepr.main -r {people_dataset}/drepr.model.yml -d default={people_dataset}/DATA.csv -o {people_dataset}/drepr.output.ttl > /tmp/drepr.log\n",
    "    drepr_exec_times.append(read_exec_time(\"/tmp/drepr.log\"))\n",
    "    !rm /tmp/drepr.log\n",
    "\n",
    "print(f\"run {n_runs} times, average: {np.mean(drepr_exec_times)}ms\")"
   ]
  },
  {
   "cell_type": "code",
   "execution_count": 84,
   "metadata": {},
   "outputs": [
    {
     "name": "stdout",
     "output_type": "stream",
     "text": [
      "{\n",
      "    \"karma\":{\n",
      "        \"5000\":[\n",
      "            1475.0,\n",
      "            1408.0,\n",
      "            1221.0\n",
      "        ],\n",
      "        \"10000\":[\n",
      "            1797.0,\n",
      "            1765.0,\n",
      "            1767.0\n",
      "        ],\n",
      "        \"20000\":[\n",
      "            3199.0,\n",
      "            3053.0,\n",
      "            3578.0\n",
      "        ],\n",
      "        \"40000\":[\n",
      "            5213.0,\n",
      "            4807.0,\n",
      "            4951.0\n",
      "        ],\n",
      "        \"80000\":[\n",
      "            8471.0,\n",
      "            8434.0,\n",
      "            8011.0\n",
      "        ]\n",
      "    },\n",
      "    \"morph\":{\n",
      "        \"5000\":[\n",
      "            5113.0,\n",
      "            5035.0,\n",
      "            4288.0\n",
      "        ],\n",
      "        \"10000\":[\n",
      "            14860.0,\n",
      "            15249.0,\n",
      "            14740.0\n",
      "        ],\n",
      "        \"20000\":[\n",
      "            60142.0,\n",
      "            71170.0,\n",
      "            66572.0\n",
      "        ]\n",
      "    },\n",
      "    \"drepr\":{\n",
      "        \"5000\":[\n",
      "            33.04,\n",
      "            33.67,\n",
      "            33.6\n",
      "        ],\n",
      "        \"10000\":[\n",
      "            69.16,\n",
      "            66.19,\n",
      "            74.17\n",
      "        ],\n",
      "        \"20000\":[\n",
      "            134.05,\n",
      "            130.07,\n",
      "            131.86\n",
      "        ],\n",
      "        \"40000\":[\n",
      "            269.51,\n",
      "            264.74,\n",
      "            268.21\n",
      "        ],\n",
      "        \"80000\":[\n",
      "            559.91,\n",
      "            542.21,\n",
      "            551.59\n",
      "        ]\n",
      "    }\n",
      "}\n"
     ]
    }
   ],
   "source": [
    "runtime['drepr'][n_records] = drepr_exec_times\n",
    "print(ujson.dumps(runtime, indent=4))"
   ]
  },
  {
   "cell_type": "code",
   "execution_count": 85,
   "metadata": {},
   "outputs": [],
   "source": [
    "with open(wdir / \"benchmark_datasets\" / \"runtime.json\", \"w\") as f:\n",
    "    ujson.dump(runtime, f)"
   ]
  },
  {
   "cell_type": "code",
   "execution_count": 88,
   "metadata": {},
   "outputs": [
    {
     "name": "stdout",
     "output_type": "stream",
     "text": [
      "karma 5000 1368.0\n",
      "karma 10000 1776.3333333333333\n",
      "karma 20000 3276.6666666666665\n",
      "karma 40000 4990.333333333333\n",
      "karma 80000 8305.333333333334\n",
      "morph 5000 4812.0\n",
      "morph 10000 14949.666666666666\n",
      "morph 20000 65961.33333333333\n",
      "drepr 5000 33.43666666666667\n",
      "drepr 10000 69.83999999999999\n",
      "drepr 20000 131.99333333333334\n",
      "drepr 40000 267.4866666666667\n",
      "drepr 80000 551.2366666666667\n"
     ]
    }
   ],
   "source": [
    "avg_runtime = {}\n",
    "for method in runtime:\n",
    "    avg_runtime[method] = [[], []]\n",
    "    for num in runtime[method]:\n",
    "        avg_runtime[method][0].append(num)\n",
    "        avg_runtime[method][1].append(np.mean(runtime[method][num]))\n",
    "        print(method, num, np.mean(runtime[method][num]))"
   ]
  },
  {
   "cell_type": "code",
   "execution_count": 95,
   "metadata": {},
   "outputs": [
    {
     "data": {
      "image/png": "[encoded data removed]",
      "text/plain": [
       "<Figure size 720x576 with 1 Axes>"
      ]
     },
     "metadata": {
      "needs_background": "light"
     },
     "output_type": "display_data"
    }
   ],
   "source": [
    "\n",
    "x = np.arange(10)\n",
    "\n",
    "plt.plot(avg_runtime['karma'][0], avg_runtime['karma'][1])\n",
    "plt.plot(avg_runtime['drepr'][0], avg_runtime['drepr'][1])\n",
    "plt.plot(avg_runtime['morph'][0], avg_runtime['morph'][1])\n",
    "# plt.plot(x, 3 * x)\n",
    "# plt.plot(x, 4 * x)\n",
    "\n",
    "plt.legend(['karma', 'drepr', 'morph'], loc='upper left')\n",
    "\n",
    "plt.show()\n"
   ]
  },
  {
   "cell_type": "code",
   "execution_count": null,
   "metadata": {},
   "outputs": [],
   "source": []
  }
 ],
 "metadata": {
  "kernelspec": {
   "display_name": "Python 3",
   "language": "python",
   "name": "python3"
  },
  "language_info": {
   "codemirror_mode": {
    "name": "ipython",
    "version": 3
   },
   "file_extension": ".py",
   "mimetype": "text/x-python",
   "name": "python",
   "nbconvert_exporter": "python",
   "pygments_lexer": "ipython3",
   "version": "3.7.2"
  }
 },
 "nbformat": 4,
 "nbformat_minor": 4
}
